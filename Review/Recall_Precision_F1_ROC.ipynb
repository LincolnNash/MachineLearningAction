{
 "cells": [
  {
   "cell_type": "markdown",
   "metadata": {},
   "source": [
    "## 1.引入"
   ]
  },
  {
   "cell_type": "markdown",
   "metadata": {},
   "source": [
    "是不是还在困惑模型评估指标都是什么意思？为什么看了就忘，记不住？这个笔记就是为了帮助你加深理解和记忆。"
   ]
  },
  {
   "cell_type": "markdown",
   "metadata": {},
   "source": [
    "假设在新冠肺炎期间你们小区门口装了一个检测器用来检测病毒携带者以保障你们小区的安全，该检测器内部运行着一个新冠肺炎自动检测模型。小区有一天进来100人，他们中有10个人是病毒携带者。这个时候就要来评估一下这个检测器有没有效。用什么指标呢？我们通常用Accuracy来评估。"
   ]
  },
  {
   "cell_type": "markdown",
   "metadata": {},
   "source": [
    "给定一个Model：将所有的人归为健康"
   ]
  },
  {
   "cell_type": "markdown",
   "metadata": {},
   "source": [
    "90人标记正确，10人标记错误：$Acc_{Model}=\\frac{90}{100}=0.9$"
   ]
  },
  {
   "cell_type": "markdown",
   "metadata": {},
   "source": [
    "对，你没看错这个混子模型准确率为90%。你们小区要是用这个混子，那就太危险了。下面我们引入其他指标"
   ]
  },
  {
   "cell_type": "markdown",
   "metadata": {},
   "source": [
    "## 2.评价指标"
   ]
  },
  {
   "cell_type": "markdown",
   "metadata": {},
   "source": [
    "在介绍其他指标之前我们先引入混淆矩阵（Confuse Matrix）"
   ]
  },
  {
   "cell_type": "markdown",
   "metadata": {},
   "source": [
    "### 2.1 混淆矩阵"
   ]
  },
  {
   "cell_type": "markdown",
   "metadata": {},
   "source": [
    "![混淆矩阵](./imgs/confuse_matrix.png)"
   ]
  },
  {
   "cell_type": "markdown",
   "metadata": {},
   "source": [
    "Positive表示我们要检测的目标，是我们关注的对象。该文中指检测结果为阳性；对应的Negative表示检测结果为阴性；横向的Positive，Negative表示每个人的真实健康状况（数据的标签）；纵向的Positive，Negative表示模型预测每个人的健康状况（模型预测结果）。<br>\n",
    "TP:表示模型将病毒携带者预测为病毒携带者（这正是我们想要的）<br>\n",
    "FP:表示模型将健康的人预测为病毒携带者（冤枉了“好人”）<br>\n",
    "FN:表示模型将病毒携带者预测为健康（这就危险了）<br>\n",
    "TN:表示模型将健康的人预测为健康（这就是我们想要的）"
   ]
  },
  {
   "cell_type": "markdown",
   "metadata": {},
   "source": [
    "### 2.2 召回率（Recall）"
   ]
  },
  {
   "cell_type": "markdown",
   "metadata": {},
   "source": [
    "“召回”这个词字面意思就是在这一大数据中我到底找到了多少关注的对象，“率”表示一个比值。那么在本文模型的召回率就是\n",
    "$$Recall =\\frac{模型检测出的阳性患者}{实际阳性患者总数}=\\frac{TP}{TP+FN}$$\n",
    "可以计算在引入部分我们给出的的混子模型的召回率=0"
   ]
  },
  {
   "cell_type": "markdown",
   "metadata": {},
   "source": [
    "### 2.2 精确度（Precision）"
   ]
  },
  {
   "cell_type": "markdown",
   "metadata": {},
   "source": [
    "本文的举的例子的关注对象是阳性患者，那么模型的精确度指的是：在模型预测的阳性患者中有多少是真实的阳性患者$$Precision = \\frac{模型正确预测为阳性的人数}{模型预测为阳性的总人数}=\\frac{TP}{TP+FP}$$"
   ]
  },
  {
   "cell_type": "markdown",
   "metadata": {},
   "source": [
    "我们再回过头来看看准确度，准确度的意思是模型正确预测的人数比上参与预测的总人数\n",
    "$$Accuracy = \\frac{TP+TN}{TP+FP+FN+TN}$$"
   ]
  },
  {
   "cell_type": "markdown",
   "metadata": {},
   "source": [
    "可以看到ACC是一个比较全局化的衡量标准，是比较粗糙的。在引入部分我们看到对于数据倾斜严重的情况ACC作为评价标准是无法胜任的。"
   ]
  },
  {
   "cell_type": "markdown",
   "metadata": {},
   "source": [
    "### 2.3 F1 Score"
   ]
  },
  {
   "cell_type": "markdown",
   "metadata": {},
   "source": [
    "人啊，总是不满足！我们既要这个模型能够满足将所有的阳性患者检测出来也就是追求更大的Recall（这样我们的小区更安全）又要减少误测的人数也就是追求大的Pricesion（不要“冤枉了”身体健康的人）。换句话说：对应我们在引入部分举的例子，我们希望TP=10，FP=0，FN=0，TN=90，这样我们的Recall=1，Precision=1.那么有没有一个评估标准来评估呢？那就是F1值\n",
    "$$F1 = \\frac{2*recall*precision}{recall+precision}=\\frac{1}{1+\\frac{FP}{2*TP}+\\frac{FN}{2*TP}}$$"
   ]
  },
  {
   "cell_type": "markdown",
   "metadata": {},
   "source": [
    "从公式看到F1的最大值为1，越接近1越好。"
   ]
  },
  {
   "cell_type": "markdown",
   "metadata": {},
   "source": [
    "### 2.4 ROC 和 ROC_AUC"
   ]
  },
  {
   "cell_type": "markdown",
   "metadata": {},
   "source": [
    "通常我们将检测器输出的值大于0.5的归为Positive，小于0.5的归为Nagetive，这里的数值0.5我们称threshold（阈值），容易知道threshold的值直接影响了检测器输出的Positive和Negative的值。"
   ]
  },
  {
   "cell_type": "markdown",
   "metadata": {},
   "source": [
    "现在呢，我们对检测器提出了要求：<br>\n",
    "1、将更多的病毒携带着检测出来，也就是Recall越大越好，也称作（TPR，True Positive Rate）<br>\n",
    "2、尽量的不要“冤枉“健康的人，也就是假阳性（FPR，False Positive Rate）的人越少越好<br>可是天公不作美，随着threshold的变化，TPR和FPR是同向变化的，即同时增大或者变小。"
   ]
  },
  {
   "cell_type": "markdown",
   "metadata": {},
   "source": [
    "我们将FPR作为横轴，TPR作为纵轴。这个坐标系上的曲线就是ROC曲线。显然threshold的取值大小影响着ROC曲线。我们先想像一下我们想要哪种曲线。既然同时增大或者变小，那么我们想要的这条曲线纵轴方向增大的越快越好、横轴方向增长的速率越慢越好。如下图："
   ]
  },
  {
   "cell_type": "markdown",
   "metadata": {},
   "source": [
    "![ROC](./imgs/ROC.png)"
   ]
  },
  {
   "cell_type": "markdown",
   "metadata": {},
   "source": [
    "根据初中解析几何知识我们知道，绿色的线是理想状态下的，红色的优于蓝色的黑色的就是个乱猜的模型。也就是说，ROC （Receiver Operating Characteristic）曲线下面的面积越大，模型就越好。这个曲线下面积就称为 AUC（Area Under the Curve）。"
   ]
  },
  {
   "cell_type": "markdown",
   "metadata": {},
   "source": [
    "### 2.5 Precision-Recall curve"
   ]
  },
  {
   "cell_type": "markdown",
   "metadata": {},
   "source": [
    "同2.4节介绍的Precision和Recall都受threshold的影响。我们追求更大的Recall和Precision但是天公他总是不作美。Recall和Precision是反向变化，即一个变大一个变小。我们将Precision作为横轴，Recall作为纵轴。"
   ]
  },
  {
   "cell_type": "markdown",
   "metadata": {},
   "source": [
    "![Precision-Recall](./imgs/Precision-Recall.png)"
   ]
  },
  {
   "cell_type": "markdown",
   "metadata": {},
   "source": [
    "### 2.6 用哪种曲线合适？"
   ]
  },
  {
   "cell_type": "markdown",
   "metadata": {},
   "source": [
    "一般来说，像上面新冠病毒的例子，用 Precision-Recall 比较好，属于 data imbalanced 的情况。\n",
    "如果 positive，negative 的数量基本是平衡的，那 ROC 就更常用一些。"
   ]
  }
 ],
 "metadata": {
  "kernelspec": {
   "display_name": "Python 3",
   "language": "python",
   "name": "python3"
  },
  "language_info": {
   "codemirror_mode": {
    "name": "ipython",
    "version": 3
   },
   "file_extension": ".py",
   "mimetype": "text/x-python",
   "name": "python",
   "nbconvert_exporter": "python",
   "pygments_lexer": "ipython3",
   "version": "3.7.6"
  }
 },
 "nbformat": 4,
 "nbformat_minor": 4
}
