{
 "cells": [
  {
   "cell_type": "markdown",
   "metadata": {},
   "source": [
    "## 1.引入"
   ]
  },
  {
   "cell_type": "markdown",
   "metadata": {},
   "source": [
    "是不是还在困惑模型评估指标都是什么意思？为什么看了就忘，记不住？这个笔记就是为了帮助你加深理解和记忆。"
   ]
  },
  {
   "cell_type": "markdown",
   "metadata": {},
   "source": [
    "假设在新冠肺炎期间你们小区门口装了一个检测器用来检测病毒携带者以保障你们小区的安全，该检测器内部运行着你构建的一个新冠肺炎自动检测模型。小区每天进来100人，他们中有10个人是病毒携带者。这个时候就要来评估一下这个模型能不能检测出这10个人啊。用什么指标啊？我们通常用Accuracy来评估。"
   ]
  },
  {
   "cell_type": "markdown",
   "metadata": {},
   "source": [
    "Model：将所有的人归为健康"
   ]
  },
  {
   "cell_type": "markdown",
   "metadata": {},
   "source": [
    "90人标记正确，10人标记错误：$Acc_{Model}=\\frac{90}{100}=0.9$"
   ]
  },
  {
   "cell_type": "markdown",
   "metadata": {},
   "source": [
    "对，你没看错这个混子模型准确率为90%。你们小区要是用这个混子，那就太危险了。下面我们引入其他指标"
   ]
  },
  {
   "cell_type": "markdown",
   "metadata": {},
   "source": [
    "## 2.评价指标"
   ]
  },
  {
   "cell_type": "markdown",
   "metadata": {},
   "source": [
    "在介绍其他指标之前我们先引入混淆矩阵（Confuse Matrix）"
   ]
  },
  {
   "cell_type": "markdown",
   "metadata": {},
   "source": [
    "### 2.1 混淆矩阵"
   ]
  },
  {
   "cell_type": "markdown",
   "metadata": {},
   "source": [
    "![混淆矩阵](./imgs/confuse_matrix.png)"
   ]
  },
  {
   "cell_type": "markdown",
   "metadata": {},
   "source": [
    "Positive表示我们要检测的目标，是我们关注的对象。该文中指检测结果为阳性；对应的Negative表示检测结果为阴性；横向的Positive，Negative表示每个人的真实健康状况（数据的真实标签）；纵向的Positive，Negative表示模型预测每个人的健康状况（模型预测结果）。<br>\n",
    "TP:表示模型将健康的人预测为健康（这正是我们想要的）<br>\n",
    "FP:表示模型将病毒携带者预测为健康（这就危险了）<br>\n",
    "FN:表示模型将健康的人预测为病毒携带者（冤枉了“好人”，希望这个混子模型遇到个脾气好的人）<br>\n",
    "TN:表示模型将病毒携带者预测为病毒携带者（这就是我们想要的）"
   ]
  },
  {
   "cell_type": "markdown",
   "metadata": {},
   "source": [
    "### 2.2 召回率（Recall）"
   ]
  },
  {
   "cell_type": "markdown",
   "metadata": {},
   "source": [
    "“召回”这个词字面意思就是在这一大数据中我到底找到了多少关注的对象，“率”表示一个比值。那么在本文召回率就是\n",
    "$$Recall =\\frac{模型检测出的阳性患者}{阳性患者总数}=\\frac{TP}{TP+FN}$$\n",
    "可以计算在引入部分我们给出的的混子模型的召回率=0"
   ]
  }
 ],
 "metadata": {
  "kernelspec": {
   "display_name": "Python 3",
   "language": "python",
   "name": "python3"
  },
  "language_info": {
   "codemirror_mode": {
    "name": "ipython",
    "version": 3
   },
   "file_extension": ".py",
   "mimetype": "text/x-python",
   "name": "python",
   "nbconvert_exporter": "python",
   "pygments_lexer": "ipython3",
   "version": "3.7.6"
  }
 },
 "nbformat": 4,
 "nbformat_minor": 4
}
